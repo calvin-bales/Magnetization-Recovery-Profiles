{
  "nbformat": 4,
  "nbformat_minor": 0,
  "metadata": {
    "colab": {
      "provenance": []
    },
    "kernelspec": {
      "name": "python3",
      "display_name": "Python 3"
    },
    "language_info": {
      "name": "python"
    }
  },
  "cells": [
    {
      "cell_type": "code",
      "execution_count": 1,
      "metadata": {
        "id": "mQ1IXEZBaXSU"
      },
      "outputs": [],
      "source": [
        "import numpy as np\n",
        "import matplotlib.pyplot as plt\n",
        "from numpy import linalg as LA"
      ]
    },
    {
      "cell_type": "code",
      "source": [
        "def N0_matrix(I, sequence, trans):\n",
        "  \"\"\"\n",
        "  Creates initial prepared spin system\n",
        "  Args:\n",
        "  I (float): nuclear spin\n",
        "  sequence (string): \"fullsat\" or \"train\" depending on pulse sequence used\n",
        "  trans (int): selected irradiated transition, 0 = (-1/2 <-> 1/2), 1 = (+-3/2 <-> +-1/2), ect.\n",
        "\n",
        "  Returns:\n",
        "  N0 (np.array): (2I+1)-dimensional vector describing initial prepared state\n",
        "  \"\"\"\n",
        "  dim = int(2*I) # defines dimension from nuclear spin\n",
        "  N0 = np.zeros((dim, 1))\n",
        "  trans_index = int((dim-1)/2) # determines which index the irradiated transition sits at\n",
        "\n",
        "  # returns an error message if a transition outside the bounds of the nuclear spin is chosen\n",
        "  if 2*abs(trans) + 1 > dim:\n",
        "    return print(\"So such transition for given spin\")\n",
        "\n",
        "  for i in range(dim):\n",
        "    if sequence == \"fullsat\":\n",
        "      if trans_index + trans > 0 and trans_index + trans < dim:\n",
        "        N0[trans_index + trans, 0] = -2\n",
        "\n",
        "      if trans_index + trans - 1 > 0:\n",
        "        N0[trans_index + trans - 1, 0] = 1\n",
        "\n",
        "      if trans_index + trans + 1 < dim:\n",
        "        N0[trans_index + trans + 1, 0] = 1\n",
        "\n",
        "    if sequence == \"train\":\n",
        "      if trans_index + trans > 0 and trans_index + trans < dim:\n",
        "        N0[trans_index + trans, 0] = -1\n",
        "\n",
        "  return N0"
      ],
      "metadata": {
        "id": "QRXr2CAFoSxA"
      },
      "execution_count": 5,
      "outputs": []
    },
    {
      "cell_type": "code",
      "source": [
        "##### Define measurement parameters #####\n",
        "\n",
        "# nuclear spin of isotope probed\n",
        "I = 9/2\n",
        "\n",
        "# selected irradiated transition (0 = central (-1/2 <-> 1/2), 1 = 1st sat (+-3/2 <-> +-1/2), ect.)\n",
        "trans = 1\n",
        "\n",
        "# type of pulse sequence used, can be \"fullsat\" or \"train\"\n",
        "sequence = \"fullsat\" # \"train\""
      ],
      "metadata": {
        "id": "KeP7R1CKNq5V"
      },
      "execution_count": 2,
      "outputs": []
    },
    {
      "cell_type": "code",
      "source": [
        "# Define initial prepared state\n",
        "N0 = N0_matrix(I, sequence, trans)\n",
        "print(\"N0 = \", N0)"
      ],
      "metadata": {
        "colab": {
          "base_uri": "https://localhost:8080/"
        },
        "id": "uVEgPXeaKulm",
        "outputId": "38f688e7-c68a-46e9-a3ee-2f6868018da0"
      },
      "execution_count": 14,
      "outputs": [
        {
          "output_type": "stream",
          "name": "stdout",
          "text": [
            "N0 =  [[ 0.]\n",
            " [ 0.]\n",
            " [ 0.]\n",
            " [ 0.]\n",
            " [ 1.]\n",
            " [-2.]\n",
            " [ 1.]\n",
            " [ 0.]\n",
            " [ 0.]]\n"
          ]
        }
      ]
    },
    {
      "cell_type": "code",
      "source": [
        "####### reduced recovery matrix #######\n",
        "# must be manually added\n",
        "\n",
        "if I == 3/2:\n",
        "  R = np.array([[-6, 4, 0],\n",
        "      [3, -8, 3],\n",
        "      [0, 4, -6]])\n",
        "\n",
        "if I == 5/2:\n",
        "  R = np.array([[-10, 8, 0, 0, 0],\n",
        "                [5, -16, 9, 0, 0],\n",
        "                [0, 8, -18, 8, 0],\n",
        "                [0, 0, 9, -16, 5],\n",
        "                [0, 0, 0, 8, -10]])\n",
        "\n",
        "if I == 9/2:\n",
        "  R = np.array([[-18, 16, 0, 0, 0, 0, 0, 0, 0],\n",
        "                [9, -32, 21, 0, 0, 0, 0, 0, 0],\n",
        "                [0, 16, -42, 24, 0, 0, 0, 0, 0],\n",
        "                [0, 0, 21, -48, 25, 0, 0, 0, 0],\n",
        "                [0, 0, 0, 24, -50, 24, 0, 0, 0],\n",
        "                [0, 0, 0, 0, 25, -48, 21, 0, 0],\n",
        "                [0, 0, 0, 0, 0, 24, -42, 16, 0],\n",
        "                [0, 0, 0, 0, 0, 0, 21, -32, 9],\n",
        "                [0, 0, 0, 0, 0, 0, 0, 16, -18]])\n",
        "print(\"R = \", R)"
      ],
      "metadata": {
        "colab": {
          "base_uri": "https://localhost:8080/"
        },
        "id": "aGGRfpdFaz7n",
        "outputId": "96cd1e51-8c18-42a7-d3ca-e92736184449"
      },
      "execution_count": 3,
      "outputs": [
        {
          "output_type": "stream",
          "name": "stdout",
          "text": [
            "[[-18  16   0   0   0   0   0   0   0]\n",
            " [  9 -32  21   0   0   0   0   0   0]\n",
            " [  0  16 -42  24   0   0   0   0   0]\n",
            " [  0   0  21 -48  25   0   0   0   0]\n",
            " [  0   0   0  24 -50  24   0   0   0]\n",
            " [  0   0   0   0  25 -48  21   0   0]\n",
            " [  0   0   0   0   0  24 -42  16   0]\n",
            " [  0   0   0   0   0   0  21 -32   9]\n",
            " [  0   0   0   0   0   0   0  16 -18]]\n"
          ]
        }
      ]
    },
    {
      "cell_type": "code",
      "source": [
        "#calculate eigenvalues and eigenvectors of R\n",
        "L, ET = LA.eig(R)\n",
        "print(\"eigenvalues = \", L)\n",
        "# returns transpose of E as defined in literature instead of E\n",
        "\n",
        "# get transpose of eigenvector matrix\n",
        "E = ET.transpose()\n",
        "\n",
        "# Take inverse of ET\n",
        "invET = LA.inv(ET)"
      ],
      "metadata": {
        "id": "-aNdxWLcwKI1",
        "colab": {
          "base_uri": "https://localhost:8080/"
        },
        "outputId": "1d41f1eb-5f1c-48c2-b4e7-e7216ced1eff"
      },
      "execution_count": 4,
      "outputs": [
        {
          "output_type": "stream",
          "name": "stdout",
          "text": [
            "eigenvalues =  [-90. -72. -56. -42. -30. -20.  -2.  -6. -12.]\n"
          ]
        }
      ]
    },
    {
      "cell_type": "code",
      "source": [
        "# calculate prefactors for relaxation\n",
        "ETinvN0 = np.matmul(invET, N0)\n",
        "\n",
        "# chooses the correct row in E for the irradiated transition\n",
        "dim = int(2*I)\n",
        "n = int((trans + dim)/2)\n",
        "trex = np.zeros((dim, 1))\n",
        "E_trans = E[:, n]\n",
        "\n",
        "# takes the transpose for matrix multiplication purposes\n",
        "for i in range(dim):\n",
        "  trex[i, 0] = E_trans[i]\n",
        "\n",
        "# calculates ai\n",
        "ai = np.multiply(ETinvN0, trex)"
      ],
      "metadata": {
        "id": "Ai_vWY3Cx40B"
      },
      "execution_count": 10,
      "outputs": []
    },
    {
      "cell_type": "code",
      "source": [
        "listofai = []\n",
        "\n",
        "# rounds ai to 3 decimal points and appends to list\n",
        "for i in ai:\n",
        "  listofai.append(np.round(*i,4))\n",
        "\n",
        "# print final magnetization recovery curve\n",
        "print(\"M(t) = 1\")\n",
        "\n",
        "for i in range(len(listofai)):\n",
        "  if listofai[i] == 0:\n",
        "    i+=1\n",
        "  else:\n",
        "    print(listofai[i],\"exp(\",np.round(L[i]/2,0),\"t/T1)\")"
      ],
      "metadata": {
        "colab": {
          "base_uri": "https://localhost:8080/"
        },
        "id": "VPhy6-tFxlTX",
        "outputId": "f5cba259-a72f-4844-f066-719e479f59e6"
      },
      "execution_count": 9,
      "outputs": [
        {
          "output_type": "stream",
          "name": "stdout",
          "text": [
            "M(t) = 1\n",
            "-0.907 exp( -45.0 t/T1)\n",
            "-0.6168 exp( -36.0 t/T1)\n",
            "-0.0067 exp( -28.0 t/T1)\n",
            "-0.297 exp( -21.0 t/T1)\n",
            "-0.0321 exp( -15.0 t/T1)\n",
            "-0.0787 exp( -10.0 t/T1)\n",
            "-0.0121 exp( -1.0 t/T1)\n",
            "-0.0076 exp( -3.0 t/T1)\n",
            "-0.0421 exp( -6.0 t/T1)\n"
          ]
        }
      ]
    },
    {
      "cell_type": "code",
      "source": [],
      "metadata": {
        "id": "tuZ-qRUz3WZo"
      },
      "execution_count": null,
      "outputs": []
    }
  ]
}